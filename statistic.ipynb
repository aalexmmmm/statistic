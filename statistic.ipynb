{
 "cells": [
  {
   "cell_type": "markdown",
   "id": "f96d46da",
   "metadata": {},
   "source": [
    "## Импорт и подготовка данных"
   ]
  },
  {
   "cell_type": "code",
   "execution_count": 997,
   "id": "2e8d5287",
   "metadata": {},
   "outputs": [],
   "source": [
    "import pandas as pd\n",
    "import numpy as np\n",
    "import seaborn as sns\n",
    "import matplotlib.pyplot as plt\n",
    "%matplotlib inline\n",
    "\n",
    "from sklearn.model_selection import train_test_split, StratifiedKFold, GridSearchCV\n",
    "from sklearn.linear_model import LogisticRegression\n",
    "from sklearn.metrics import precision_score, recall_score, auc, accuracy_score, roc_auc_score,f1_score,log_loss,\\\n",
    "classification_report, roc_curve\n",
    "\n",
    "import warnings\n",
    "warnings.filterwarnings(\"ignore\");\n",
    "\n",
    "RAND = 10"
   ]
  },
  {
   "cell_type": "code",
   "execution_count": 998,
   "id": "611e4832",
   "metadata": {},
   "outputs": [],
   "source": [
    "data = pd.read_csv('C:\\\\Users\\\\Alex\\\\Desktop\\\\second_task\\\\test_Feb22.csv')"
   ]
  },
  {
   "cell_type": "code",
   "execution_count": 999,
   "id": "5265908a",
   "metadata": {},
   "outputs": [
    {
     "data": {
      "text/html": [
       "<div>\n",
       "<style scoped>\n",
       "    .dataframe tbody tr th:only-of-type {\n",
       "        vertical-align: middle;\n",
       "    }\n",
       "\n",
       "    .dataframe tbody tr th {\n",
       "        vertical-align: top;\n",
       "    }\n",
       "\n",
       "    .dataframe thead th {\n",
       "        text-align: right;\n",
       "    }\n",
       "</style>\n",
       "<table border=\"1\" class=\"dataframe\">\n",
       "  <thead>\n",
       "    <tr style=\"text-align: right;\">\n",
       "      <th></th>\n",
       "      <th>Unnamed: 0</th>\n",
       "      <th>time</th>\n",
       "      <th>user_id</th>\n",
       "      <th>type</th>\n",
       "      <th>amount</th>\n",
       "      <th>target</th>\n",
       "      <th>feature1</th>\n",
       "      <th>feature2</th>\n",
       "      <th>events_ordinal_number</th>\n",
       "      <th>second_event_time</th>\n",
       "      <th>loan_ordinal_number</th>\n",
       "      <th>events_time_diff</th>\n",
       "      <th>previous_loans_max_amount</th>\n",
       "    </tr>\n",
       "  </thead>\n",
       "  <tbody>\n",
       "    <tr>\n",
       "      <th>0</th>\n",
       "      <td>0</td>\n",
       "      <td>2001-01-01 00:00:00</td>\n",
       "      <td>114</td>\n",
       "      <td>loanRequest</td>\n",
       "      <td>14651</td>\n",
       "      <td>NaN</td>\n",
       "      <td>1</td>\n",
       "      <td>1</td>\n",
       "      <td>1</td>\n",
       "      <td>2001-01-25 05:00:00</td>\n",
       "      <td>1</td>\n",
       "      <td>NaN</td>\n",
       "      <td>NaN</td>\n",
       "    </tr>\n",
       "    <tr>\n",
       "      <th>1</th>\n",
       "      <td>1</td>\n",
       "      <td>2001-01-01 01:00:00</td>\n",
       "      <td>199</td>\n",
       "      <td>loanRequest</td>\n",
       "      <td>13398</td>\n",
       "      <td>NaN</td>\n",
       "      <td>0</td>\n",
       "      <td>0</td>\n",
       "      <td>1</td>\n",
       "      <td>2001-01-08 01:00:00</td>\n",
       "      <td>1</td>\n",
       "      <td>NaN</td>\n",
       "      <td>NaN</td>\n",
       "    </tr>\n",
       "    <tr>\n",
       "      <th>2</th>\n",
       "      <td>2</td>\n",
       "      <td>2001-01-01 02:00:00</td>\n",
       "      <td>717</td>\n",
       "      <td>loanRequest</td>\n",
       "      <td>14525</td>\n",
       "      <td>NaN</td>\n",
       "      <td>0</td>\n",
       "      <td>0</td>\n",
       "      <td>1</td>\n",
       "      <td>2001-01-09 16:00:00</td>\n",
       "      <td>1</td>\n",
       "      <td>NaN</td>\n",
       "      <td>NaN</td>\n",
       "    </tr>\n",
       "    <tr>\n",
       "      <th>3</th>\n",
       "      <td>3</td>\n",
       "      <td>2001-01-01 03:00:00</td>\n",
       "      <td>66</td>\n",
       "      <td>loan</td>\n",
       "      <td>14437</td>\n",
       "      <td>1.0</td>\n",
       "      <td>1</td>\n",
       "      <td>1</td>\n",
       "      <td>1</td>\n",
       "      <td>2001-03-27 17:00:00</td>\n",
       "      <td>1</td>\n",
       "      <td>NaN</td>\n",
       "      <td>NaN</td>\n",
       "    </tr>\n",
       "    <tr>\n",
       "      <th>4</th>\n",
       "      <td>4</td>\n",
       "      <td>2001-01-01 04:00:00</td>\n",
       "      <td>584</td>\n",
       "      <td>loanRequest</td>\n",
       "      <td>15861</td>\n",
       "      <td>NaN</td>\n",
       "      <td>1</td>\n",
       "      <td>0</td>\n",
       "      <td>1</td>\n",
       "      <td>2001-01-05 10:00:00</td>\n",
       "      <td>1</td>\n",
       "      <td>NaN</td>\n",
       "      <td>NaN</td>\n",
       "    </tr>\n",
       "  </tbody>\n",
       "</table>\n",
       "</div>"
      ],
      "text/plain": [
       "   Unnamed: 0                 time  user_id         type  amount  target  \\\n",
       "0           0  2001-01-01 00:00:00      114  loanRequest   14651     NaN   \n",
       "1           1  2001-01-01 01:00:00      199  loanRequest   13398     NaN   \n",
       "2           2  2001-01-01 02:00:00      717  loanRequest   14525     NaN   \n",
       "3           3  2001-01-01 03:00:00       66         loan   14437     1.0   \n",
       "4           4  2001-01-01 04:00:00      584  loanRequest   15861     NaN   \n",
       "\n",
       "   feature1  feature2  events_ordinal_number    second_event_time  \\\n",
       "0         1         1                      1  2001-01-25 05:00:00   \n",
       "1         0         0                      1  2001-01-08 01:00:00   \n",
       "2         0         0                      1  2001-01-09 16:00:00   \n",
       "3         1         1                      1  2001-03-27 17:00:00   \n",
       "4         1         0                      1  2001-01-05 10:00:00   \n",
       "\n",
       "   loan_ordinal_number events_time_diff  previous_loans_max_amount  \n",
       "0                    1              NaN                        NaN  \n",
       "1                    1              NaN                        NaN  \n",
       "2                    1              NaN                        NaN  \n",
       "3                    1              NaN                        NaN  \n",
       "4                    1              NaN                        NaN  "
      ]
     },
     "execution_count": 999,
     "metadata": {},
     "output_type": "execute_result"
    }
   ],
   "source": [
    "data.head()"
   ]
  },
  {
   "cell_type": "code",
   "execution_count": 1000,
   "id": "b223826e",
   "metadata": {},
   "outputs": [
    {
     "name": "stdout",
     "output_type": "stream",
     "text": [
      "Data size = (10000, 13)\n"
     ]
    }
   ],
   "source": [
    "print(f'Data size = {data.shape}')"
   ]
  },
  {
   "cell_type": "code",
   "execution_count": 1001,
   "id": "5f3b5832",
   "metadata": {},
   "outputs": [
    {
     "name": "stdout",
     "output_type": "stream",
     "text": [
      "<class 'pandas.core.frame.DataFrame'>\n",
      "RangeIndex: 10000 entries, 0 to 9999\n",
      "Data columns (total 13 columns):\n",
      " #   Column                     Non-Null Count  Dtype  \n",
      "---  ------                     --------------  -----  \n",
      " 0   Unnamed: 0                 10000 non-null  int64  \n",
      " 1   time                       10000 non-null  object \n",
      " 2   user_id                    10000 non-null  int64  \n",
      " 3   type                       10000 non-null  object \n",
      " 4   amount                     10000 non-null  int64  \n",
      " 5   target                     2019 non-null   float64\n",
      " 6   feature1                   10000 non-null  int64  \n",
      " 7   feature2                   10000 non-null  int64  \n",
      " 8   events_ordinal_number      10000 non-null  int64  \n",
      " 9   second_event_time          9999 non-null   object \n",
      " 10  loan_ordinal_number        10000 non-null  int64  \n",
      " 11  events_time_diff           9000 non-null   object \n",
      " 12  previous_loans_max_amount  5642 non-null   float64\n",
      "dtypes: float64(2), int64(7), object(4)\n",
      "memory usage: 1015.8+ KB\n"
     ]
    }
   ],
   "source": [
    "data.info()"
   ]
  },
  {
   "cell_type": "code",
   "execution_count": 1002,
   "id": "de0e50bb",
   "metadata": {},
   "outputs": [],
   "source": [
    "data_new = data[data['target'].notna()]"
   ]
  },
  {
   "cell_type": "code",
   "execution_count": 1003,
   "id": "2212ff3a",
   "metadata": {},
   "outputs": [],
   "source": [
    "data_new = data_new.reset_index()"
   ]
  },
  {
   "cell_type": "code",
   "execution_count": 1004,
   "id": "9ff985de",
   "metadata": {},
   "outputs": [
    {
     "data": {
      "text/html": [
       "<div>\n",
       "<style scoped>\n",
       "    .dataframe tbody tr th:only-of-type {\n",
       "        vertical-align: middle;\n",
       "    }\n",
       "\n",
       "    .dataframe tbody tr th {\n",
       "        vertical-align: top;\n",
       "    }\n",
       "\n",
       "    .dataframe thead th {\n",
       "        text-align: right;\n",
       "    }\n",
       "</style>\n",
       "<table border=\"1\" class=\"dataframe\">\n",
       "  <thead>\n",
       "    <tr style=\"text-align: right;\">\n",
       "      <th></th>\n",
       "      <th>index</th>\n",
       "      <th>Unnamed: 0</th>\n",
       "      <th>time</th>\n",
       "      <th>user_id</th>\n",
       "      <th>type</th>\n",
       "      <th>amount</th>\n",
       "      <th>target</th>\n",
       "      <th>feature1</th>\n",
       "      <th>feature2</th>\n",
       "      <th>events_ordinal_number</th>\n",
       "      <th>second_event_time</th>\n",
       "      <th>loan_ordinal_number</th>\n",
       "      <th>events_time_diff</th>\n",
       "      <th>previous_loans_max_amount</th>\n",
       "    </tr>\n",
       "  </thead>\n",
       "  <tbody>\n",
       "    <tr>\n",
       "      <th>0</th>\n",
       "      <td>3</td>\n",
       "      <td>3</td>\n",
       "      <td>2001-01-01 03:00:00</td>\n",
       "      <td>66</td>\n",
       "      <td>loan</td>\n",
       "      <td>14437</td>\n",
       "      <td>1.0</td>\n",
       "      <td>1</td>\n",
       "      <td>1</td>\n",
       "      <td>1</td>\n",
       "      <td>2001-03-27 17:00:00</td>\n",
       "      <td>1</td>\n",
       "      <td>NaN</td>\n",
       "      <td>NaN</td>\n",
       "    </tr>\n",
       "    <tr>\n",
       "      <th>1</th>\n",
       "      <td>6</td>\n",
       "      <td>6</td>\n",
       "      <td>2001-01-01 06:00:00</td>\n",
       "      <td>179</td>\n",
       "      <td>loan</td>\n",
       "      <td>13306</td>\n",
       "      <td>1.0</td>\n",
       "      <td>0</td>\n",
       "      <td>0</td>\n",
       "      <td>1</td>\n",
       "      <td>2001-01-14 20:00:00</td>\n",
       "      <td>1</td>\n",
       "      <td>NaN</td>\n",
       "      <td>NaN</td>\n",
       "    </tr>\n",
       "    <tr>\n",
       "      <th>2</th>\n",
       "      <td>7</td>\n",
       "      <td>7</td>\n",
       "      <td>2001-01-01 07:00:00</td>\n",
       "      <td>214</td>\n",
       "      <td>loan</td>\n",
       "      <td>15871</td>\n",
       "      <td>1.0</td>\n",
       "      <td>1</td>\n",
       "      <td>0</td>\n",
       "      <td>1</td>\n",
       "      <td>2001-01-10 06:00:00</td>\n",
       "      <td>1</td>\n",
       "      <td>NaN</td>\n",
       "      <td>NaN</td>\n",
       "    </tr>\n",
       "    <tr>\n",
       "      <th>3</th>\n",
       "      <td>10</td>\n",
       "      <td>10</td>\n",
       "      <td>2001-01-01 10:00:00</td>\n",
       "      <td>652</td>\n",
       "      <td>loan</td>\n",
       "      <td>14115</td>\n",
       "      <td>0.0</td>\n",
       "      <td>1</td>\n",
       "      <td>0</td>\n",
       "      <td>1</td>\n",
       "      <td>2001-01-25 03:00:00</td>\n",
       "      <td>1</td>\n",
       "      <td>NaN</td>\n",
       "      <td>NaN</td>\n",
       "    </tr>\n",
       "    <tr>\n",
       "      <th>4</th>\n",
       "      <td>24</td>\n",
       "      <td>24</td>\n",
       "      <td>2001-01-02 00:00:00</td>\n",
       "      <td>540</td>\n",
       "      <td>loan</td>\n",
       "      <td>15826</td>\n",
       "      <td>0.0</td>\n",
       "      <td>1</td>\n",
       "      <td>1</td>\n",
       "      <td>1</td>\n",
       "      <td>2001-01-06 02:00:00</td>\n",
       "      <td>1</td>\n",
       "      <td>NaN</td>\n",
       "      <td>NaN</td>\n",
       "    </tr>\n",
       "    <tr>\n",
       "      <th>...</th>\n",
       "      <td>...</td>\n",
       "      <td>...</td>\n",
       "      <td>...</td>\n",
       "      <td>...</td>\n",
       "      <td>...</td>\n",
       "      <td>...</td>\n",
       "      <td>...</td>\n",
       "      <td>...</td>\n",
       "      <td>...</td>\n",
       "      <td>...</td>\n",
       "      <td>...</td>\n",
       "      <td>...</td>\n",
       "      <td>...</td>\n",
       "      <td>...</td>\n",
       "    </tr>\n",
       "    <tr>\n",
       "      <th>2014</th>\n",
       "      <td>9972</td>\n",
       "      <td>9972</td>\n",
       "      <td>2002-02-20 12:00:00</td>\n",
       "      <td>200</td>\n",
       "      <td>loan</td>\n",
       "      <td>17175</td>\n",
       "      <td>0.0</td>\n",
       "      <td>0</td>\n",
       "      <td>0</td>\n",
       "      <td>11</td>\n",
       "      <td>2001-01-25 07:00:00</td>\n",
       "      <td>3</td>\n",
       "      <td>35 days 05:00:00</td>\n",
       "      <td>14852.0</td>\n",
       "    </tr>\n",
       "    <tr>\n",
       "      <th>2015</th>\n",
       "      <td>9976</td>\n",
       "      <td>9976</td>\n",
       "      <td>2002-02-20 16:00:00</td>\n",
       "      <td>749</td>\n",
       "      <td>loan</td>\n",
       "      <td>15319</td>\n",
       "      <td>1.0</td>\n",
       "      <td>0</td>\n",
       "      <td>1</td>\n",
       "      <td>8</td>\n",
       "      <td>2001-07-02 05:00:00</td>\n",
       "      <td>3</td>\n",
       "      <td>29 days 19:00:00</td>\n",
       "      <td>16720.0</td>\n",
       "    </tr>\n",
       "    <tr>\n",
       "      <th>2016</th>\n",
       "      <td>9982</td>\n",
       "      <td>9982</td>\n",
       "      <td>2002-02-20 22:00:00</td>\n",
       "      <td>556</td>\n",
       "      <td>loan</td>\n",
       "      <td>14728</td>\n",
       "      <td>0.0</td>\n",
       "      <td>1</td>\n",
       "      <td>1</td>\n",
       "      <td>11</td>\n",
       "      <td>2001-02-23 02:00:00</td>\n",
       "      <td>2</td>\n",
       "      <td>16 days 18:00:00</td>\n",
       "      <td>15431.0</td>\n",
       "    </tr>\n",
       "    <tr>\n",
       "      <th>2017</th>\n",
       "      <td>9987</td>\n",
       "      <td>9987</td>\n",
       "      <td>2002-02-21 03:00:00</td>\n",
       "      <td>529</td>\n",
       "      <td>loan</td>\n",
       "      <td>13971</td>\n",
       "      <td>1.0</td>\n",
       "      <td>1</td>\n",
       "      <td>0</td>\n",
       "      <td>14</td>\n",
       "      <td>2001-02-17 19:00:00</td>\n",
       "      <td>2</td>\n",
       "      <td>8 days 22:00:00</td>\n",
       "      <td>15436.0</td>\n",
       "    </tr>\n",
       "    <tr>\n",
       "      <th>2018</th>\n",
       "      <td>9997</td>\n",
       "      <td>9997</td>\n",
       "      <td>2002-02-21 13:00:00</td>\n",
       "      <td>596</td>\n",
       "      <td>loan</td>\n",
       "      <td>16687</td>\n",
       "      <td>1.0</td>\n",
       "      <td>1</td>\n",
       "      <td>1</td>\n",
       "      <td>6</td>\n",
       "      <td>2001-03-15 17:00:00</td>\n",
       "      <td>1</td>\n",
       "      <td>180 days 00:00:00</td>\n",
       "      <td>NaN</td>\n",
       "    </tr>\n",
       "  </tbody>\n",
       "</table>\n",
       "<p>2019 rows × 14 columns</p>\n",
       "</div>"
      ],
      "text/plain": [
       "      index  Unnamed: 0                 time  user_id  type  amount  target  \\\n",
       "0         3           3  2001-01-01 03:00:00       66  loan   14437     1.0   \n",
       "1         6           6  2001-01-01 06:00:00      179  loan   13306     1.0   \n",
       "2         7           7  2001-01-01 07:00:00      214  loan   15871     1.0   \n",
       "3        10          10  2001-01-01 10:00:00      652  loan   14115     0.0   \n",
       "4        24          24  2001-01-02 00:00:00      540  loan   15826     0.0   \n",
       "...     ...         ...                  ...      ...   ...     ...     ...   \n",
       "2014   9972        9972  2002-02-20 12:00:00      200  loan   17175     0.0   \n",
       "2015   9976        9976  2002-02-20 16:00:00      749  loan   15319     1.0   \n",
       "2016   9982        9982  2002-02-20 22:00:00      556  loan   14728     0.0   \n",
       "2017   9987        9987  2002-02-21 03:00:00      529  loan   13971     1.0   \n",
       "2018   9997        9997  2002-02-21 13:00:00      596  loan   16687     1.0   \n",
       "\n",
       "      feature1  feature2  events_ordinal_number    second_event_time  \\\n",
       "0            1         1                      1  2001-03-27 17:00:00   \n",
       "1            0         0                      1  2001-01-14 20:00:00   \n",
       "2            1         0                      1  2001-01-10 06:00:00   \n",
       "3            1         0                      1  2001-01-25 03:00:00   \n",
       "4            1         1                      1  2001-01-06 02:00:00   \n",
       "...        ...       ...                    ...                  ...   \n",
       "2014         0         0                     11  2001-01-25 07:00:00   \n",
       "2015         0         1                      8  2001-07-02 05:00:00   \n",
       "2016         1         1                     11  2001-02-23 02:00:00   \n",
       "2017         1         0                     14  2001-02-17 19:00:00   \n",
       "2018         1         1                      6  2001-03-15 17:00:00   \n",
       "\n",
       "      loan_ordinal_number   events_time_diff  previous_loans_max_amount  \n",
       "0                       1                NaN                        NaN  \n",
       "1                       1                NaN                        NaN  \n",
       "2                       1                NaN                        NaN  \n",
       "3                       1                NaN                        NaN  \n",
       "4                       1                NaN                        NaN  \n",
       "...                   ...                ...                        ...  \n",
       "2014                    3   35 days 05:00:00                    14852.0  \n",
       "2015                    3   29 days 19:00:00                    16720.0  \n",
       "2016                    2   16 days 18:00:00                    15431.0  \n",
       "2017                    2    8 days 22:00:00                    15436.0  \n",
       "2018                    1  180 days 00:00:00                        NaN  \n",
       "\n",
       "[2019 rows x 14 columns]"
      ]
     },
     "execution_count": 1004,
     "metadata": {},
     "output_type": "execute_result"
    }
   ],
   "source": [
    "data_new"
   ]
  },
  {
   "cell_type": "code",
   "execution_count": 1005,
   "id": "4010787d",
   "metadata": {},
   "outputs": [
    {
     "data": {
      "text/html": [
       "<div>\n",
       "<style scoped>\n",
       "    .dataframe tbody tr th:only-of-type {\n",
       "        vertical-align: middle;\n",
       "    }\n",
       "\n",
       "    .dataframe tbody tr th {\n",
       "        vertical-align: top;\n",
       "    }\n",
       "\n",
       "    .dataframe thead th {\n",
       "        text-align: right;\n",
       "    }\n",
       "</style>\n",
       "<table border=\"1\" class=\"dataframe\">\n",
       "  <thead>\n",
       "    <tr style=\"text-align: right;\">\n",
       "      <th></th>\n",
       "      <th>amount</th>\n",
       "      <th>target</th>\n",
       "      <th>feature1</th>\n",
       "      <th>feature2</th>\n",
       "      <th>events_ordinal_number</th>\n",
       "      <th>loan_ordinal_number</th>\n",
       "      <th>previous_loans_max_amount</th>\n",
       "    </tr>\n",
       "  </thead>\n",
       "  <tbody>\n",
       "    <tr>\n",
       "      <th>count</th>\n",
       "      <td>2019.000000</td>\n",
       "      <td>2019.000000</td>\n",
       "      <td>2019.000000</td>\n",
       "      <td>2019.000000</td>\n",
       "      <td>2019.000000</td>\n",
       "      <td>2019.000000</td>\n",
       "      <td>1151.000000</td>\n",
       "    </tr>\n",
       "    <tr>\n",
       "      <th>mean</th>\n",
       "      <td>15012.316493</td>\n",
       "      <td>0.519069</td>\n",
       "      <td>0.613670</td>\n",
       "      <td>0.490837</td>\n",
       "      <td>5.990094</td>\n",
       "      <td>2.006439</td>\n",
       "      <td>15360.825369</td>\n",
       "    </tr>\n",
       "    <tr>\n",
       "      <th>std</th>\n",
       "      <td>991.074001</td>\n",
       "      <td>0.499760</td>\n",
       "      <td>0.487028</td>\n",
       "      <td>0.500040</td>\n",
       "      <td>3.626232</td>\n",
       "      <td>1.140070</td>\n",
       "      <td>992.563310</td>\n",
       "    </tr>\n",
       "    <tr>\n",
       "      <th>min</th>\n",
       "      <td>11731.000000</td>\n",
       "      <td>0.000000</td>\n",
       "      <td>0.000000</td>\n",
       "      <td>0.000000</td>\n",
       "      <td>1.000000</td>\n",
       "      <td>1.000000</td>\n",
       "      <td>11731.000000</td>\n",
       "    </tr>\n",
       "    <tr>\n",
       "      <th>25%</th>\n",
       "      <td>14361.500000</td>\n",
       "      <td>0.000000</td>\n",
       "      <td>0.000000</td>\n",
       "      <td>0.000000</td>\n",
       "      <td>3.000000</td>\n",
       "      <td>1.000000</td>\n",
       "      <td>14736.000000</td>\n",
       "    </tr>\n",
       "    <tr>\n",
       "      <th>50%</th>\n",
       "      <td>15029.000000</td>\n",
       "      <td>1.000000</td>\n",
       "      <td>1.000000</td>\n",
       "      <td>0.000000</td>\n",
       "      <td>5.000000</td>\n",
       "      <td>2.000000</td>\n",
       "      <td>15394.000000</td>\n",
       "    </tr>\n",
       "    <tr>\n",
       "      <th>75%</th>\n",
       "      <td>15657.000000</td>\n",
       "      <td>1.000000</td>\n",
       "      <td>1.000000</td>\n",
       "      <td>1.000000</td>\n",
       "      <td>8.000000</td>\n",
       "      <td>3.000000</td>\n",
       "      <td>16047.500000</td>\n",
       "    </tr>\n",
       "    <tr>\n",
       "      <th>max</th>\n",
       "      <td>18578.000000</td>\n",
       "      <td>1.000000</td>\n",
       "      <td>1.000000</td>\n",
       "      <td>1.000000</td>\n",
       "      <td>20.000000</td>\n",
       "      <td>8.000000</td>\n",
       "      <td>18578.000000</td>\n",
       "    </tr>\n",
       "  </tbody>\n",
       "</table>\n",
       "</div>"
      ],
      "text/plain": [
       "             amount       target     feature1     feature2  \\\n",
       "count   2019.000000  2019.000000  2019.000000  2019.000000   \n",
       "mean   15012.316493     0.519069     0.613670     0.490837   \n",
       "std      991.074001     0.499760     0.487028     0.500040   \n",
       "min    11731.000000     0.000000     0.000000     0.000000   \n",
       "25%    14361.500000     0.000000     0.000000     0.000000   \n",
       "50%    15029.000000     1.000000     1.000000     0.000000   \n",
       "75%    15657.000000     1.000000     1.000000     1.000000   \n",
       "max    18578.000000     1.000000     1.000000     1.000000   \n",
       "\n",
       "       events_ordinal_number  loan_ordinal_number  previous_loans_max_amount  \n",
       "count            2019.000000          2019.000000                1151.000000  \n",
       "mean                5.990094             2.006439               15360.825369  \n",
       "std                 3.626232             1.140070                 992.563310  \n",
       "min                 1.000000             1.000000               11731.000000  \n",
       "25%                 3.000000             1.000000               14736.000000  \n",
       "50%                 5.000000             2.000000               15394.000000  \n",
       "75%                 8.000000             3.000000               16047.500000  \n",
       "max                20.000000             8.000000               18578.000000  "
      ]
     },
     "execution_count": 1005,
     "metadata": {},
     "output_type": "execute_result"
    }
   ],
   "source": [
    "data_new.drop(['user_id', 'Unnamed: 0', 'index'], axis=1).describe()"
   ]
  },
  {
   "cell_type": "code",
   "execution_count": 1006,
   "id": "50626873",
   "metadata": {},
   "outputs": [
    {
     "data": {
      "text/plain": [
       "index                        2019\n",
       "Unnamed: 0                   2019\n",
       "time                         2019\n",
       "user_id                       868\n",
       "type                            1\n",
       "amount                       1547\n",
       "target                          2\n",
       "feature1                        2\n",
       "feature2                        2\n",
       "events_ordinal_number          20\n",
       "second_event_time             868\n",
       "loan_ordinal_number             8\n",
       "events_time_diff             1182\n",
       "previous_loans_max_amount     738\n",
       "dtype: int64"
      ]
     },
     "execution_count": 1006,
     "metadata": {},
     "output_type": "execute_result"
    }
   ],
   "source": [
    "data_new.nunique()"
   ]
  },
  {
   "cell_type": "markdown",
   "id": "f160b8b3",
   "metadata": {},
   "source": [
    "## Гипотезы"
   ]
  },
  {
   "cell_type": "markdown",
   "id": "12522aec",
   "metadata": {},
   "source": [
    "1. Целевая переменная target зависит от переменной feature1.\n",
    "2. Целевая переменная target зависит от переменной feature2."
   ]
  },
  {
   "cell_type": "markdown",
   "id": "75911860",
   "metadata": {},
   "source": [
    "## Target"
   ]
  },
  {
   "cell_type": "code",
   "execution_count": 1007,
   "id": "09f16c8f",
   "metadata": {},
   "outputs": [
    {
     "data": {
      "image/png": "[encoded data removed]",
      "text/plain": [
       "<Figure size 1080x504 with 1 Axes>"
      ]
     },
     "metadata": {
      "needs_background": "light"
     },
     "output_type": "display_data"
    }
   ],
   "source": [
    "# нормирование на размер датасета\n",
    "norm_target = (data_new\n",
    "               .target\n",
    "               .value_counts(normalize=True)\n",
    "               .mul(100)\n",
    "               .rename('percent')\n",
    "               .reset_index())\n",
    "\n",
    "plt.figure(figsize=(15, 7))\n",
    "ax = sns.barplot(x='index', y='percent', data=norm_target)\n",
    "\n",
    "# Вывод значений над графиками - annotate()\n",
    "# В цикле смотрим каждый столбец графика и на нем отмечаем значения\n",
    "for p in ax.patches:\n",
    "    percentage = '{:.1f}%'.format(p.get_height())\n",
    "    ax.annotate(percentage,  # текст\n",
    "                (p.get_x() + p.get_width() / 2., p.get_height()),  # координата xy\n",
    "                ha='center', # центрирование\n",
    "                va='center',\n",
    "                xytext=(0, 10),\n",
    "                textcoords='offset points', # точка смещения относительно координаты\n",
    "                fontsize=14)\n",
    "\n",
    "plt.title('Target', fontsize=20)\n",
    "\n",
    "plt.xlabel('target', fontsize=14)\n",
    "plt.ylabel('Проценты', fontsize=14)\n",
    "\n",
    "plt.xticks(fontsize=14)\n",
    "plt.yticks(fontsize=14);"
   ]
  },
  {
   "cell_type": "markdown",
   "id": "454a36d6",
   "metadata": {},
   "source": [
    "## Corr"
   ]
  },
  {
   "cell_type": "code",
   "execution_count": 1008,
   "id": "a44bc4da",
   "metadata": {},
   "outputs": [
    {
     "data": {
      "image/png": "[encoded data removed]",
      "text/plain": [
       "<Figure size 720x576 with 2 Axes>"
      ]
     },
     "metadata": {
      "needs_background": "light"
     },
     "output_type": "display_data"
    }
   ],
   "source": [
    "num_cols = ['type', 'amount', 'feature1', 'feature2', 'events_ordinal_number', \n",
    "            'second_event_time', 'loan_ordinal_number', 'events_time_diff', 'previous_loans_max_amount', 'target']\n",
    "\n",
    "plt.figure(figsize=(10, 8))\n",
    "\n",
    "sns.heatmap(data_new[num_cols].corr(method='spearman'), annot=True, fmt=\".1f\");"
   ]
  },
  {
   "cell_type": "markdown",
   "id": "10e7f073",
   "metadata": {},
   "source": [
    "На теплокарте очевидна значимость признака feature1 для целевой переменной target."
   ]
  },
  {
   "cell_type": "markdown",
   "id": "9855ad1d",
   "metadata": {},
   "source": [
    "## Feature1"
   ]
  },
  {
   "cell_type": "code",
   "execution_count": 1009,
   "id": "3ae384f5",
   "metadata": {},
   "outputs": [
    {
     "data": {
      "text/plain": [
       "Text(0.5, 1.0, 'Взаимосвязь target и feature1')"
      ]
     },
     "execution_count": 1009,
     "metadata": {},
     "output_type": "execute_result"
    },
    {
     "data": {
      "image/png": "[encoded data removed]",
      "text/plain": [
       "<Figure size 432x288 with 1 Axes>"
      ]
     },
     "metadata": {
      "needs_background": "light"
     },
     "output_type": "display_data"
    }
   ],
   "source": [
    "pd.crosstab(data_new.feature1,data_new.target).plot(kind='bar')\n",
    "plt.title('Взаимосвязь target и feature1')"
   ]
  },
  {
   "cell_type": "markdown",
   "id": "d93f4fe3",
   "metadata": {},
   "source": [
    "При feature1 = 0 наблюдается преобладание target = 0 больше, чем в 2 раза. При feature1 = 1 наблюдается преобладание target = 1 примерно в 2 раза. "
   ]
  },
  {
   "cell_type": "code",
   "execution_count": 1010,
   "id": "3c80e26f",
   "metadata": {
    "scrolled": false
   },
   "outputs": [
    {
     "data": {
      "image/png": "[encoded data removed]",
      "text/plain": [
       "<Figure size 1080x504 with 1 Axes>"
      ]
     },
     "metadata": {
      "needs_background": "light"
     },
     "output_type": "display_data"
    }
   ],
   "source": [
    "plt.figure(figsize=(15, 7))\n",
    "\n",
    "feature1_def = (data_new.groupby(['target'])['feature1']\n",
    "            .value_counts(normalize=True)\n",
    "            .rename('percentage')\n",
    "            .mul(100)\n",
    "            .reset_index()\n",
    "            .sort_values('feature1'))\n",
    "\n",
    "ax = sns.barplot(x=\"feature1\", y=\"percentage\", hue=\"target\", data=feature1_def)\n",
    "\n",
    "for p in ax.patches:\n",
    "    percentage = '{:.1f}%'.format(p.get_height())\n",
    "    ax.annotate(percentage,  # текст\n",
    "                (p.get_x() + p.get_width() / 2., p.get_height()),  # координата xy\n",
    "                ha='center',  # центрирование\n",
    "                va='center',\n",
    "                xytext=(0, 10),\n",
    "                textcoords='offset points',  # точка смещения относительно координаты\n",
    "                fontsize=14)\n",
    "\n",
    "plt.title('Feature1-Target', fontsize=20)\n",
    "plt.ylabel('Count', fontsize=14)\n",
    "plt.xlabel('feature1', fontsize=14)\n",
    "\n",
    "plt.xticks(fontsize=14)\n",
    "plt.yticks(fontsize=14);"
   ]
  },
  {
   "cell_type": "markdown",
   "id": "b6cafbaf",
   "metadata": {},
   "source": [
    "При feature1 = 0 наблюдается преобладание target = 0 (57,9%). При feature1 = 1 наблюдается преобладание target = 1 (79,2%). Наблюдается зависимость между переменными target и feature1."
   ]
  },
  {
   "cell_type": "markdown",
   "id": "460d7cd3",
   "metadata": {},
   "source": [
    "## Feature2"
   ]
  },
  {
   "cell_type": "code",
   "execution_count": 1011,
   "id": "03458ba6",
   "metadata": {},
   "outputs": [
    {
     "data": {
      "text/plain": [
       "Text(0.5, 1.0, 'Взаимосвязь target и feature2')"
      ]
     },
     "execution_count": 1011,
     "metadata": {},
     "output_type": "execute_result"
    },
    {
     "data": {
      "image/png": "[encoded data removed]",
      "text/plain": [
       "<Figure size 432x288 with 1 Axes>"
      ]
     },
     "metadata": {
      "needs_background": "light"
     },
     "output_type": "display_data"
    }
   ],
   "source": [
    "pd.crosstab(data_new.feature2,data_new.target).plot(kind='bar')\n",
    "plt.title('Взаимосвязь target и feature2')"
   ]
  },
  {
   "cell_type": "markdown",
   "id": "dd749a4c",
   "metadata": {},
   "source": [
    "И при feature2 = 0, и при feature2 = 1 наблюдается незначительное различие между частотами target = 0 и target = 1. "
   ]
  },
  {
   "cell_type": "code",
   "execution_count": 1012,
   "id": "6181da2c",
   "metadata": {},
   "outputs": [
    {
     "data": {
      "image/png": "[encoded data removed]",
      "text/plain": [
       "<Figure size 1080x504 with 1 Axes>"
      ]
     },
     "metadata": {
      "needs_background": "light"
     },
     "output_type": "display_data"
    }
   ],
   "source": [
    "plt.figure(figsize=(15, 7))\n",
    "\n",
    "feature1_def = (data_new.groupby(['target'])['feature2']\n",
    "            .value_counts(normalize=True)\n",
    "            .rename('percentage')\n",
    "            .mul(100)\n",
    "            .reset_index()\n",
    "            .sort_values('feature2'))\n",
    "\n",
    "ax = sns.barplot(x=\"feature2\", y=\"percentage\", hue=\"target\", data=feature1_def)\n",
    "\n",
    "for p in ax.patches:\n",
    "    percentage = '{:.1f}%'.format(p.get_height())\n",
    "    ax.annotate(percentage,  # текст\n",
    "                (p.get_x() + p.get_width() / 2., p.get_height()),  # координата xy\n",
    "                ha='center',  # центрирование\n",
    "                va='center',\n",
    "                xytext=(0, 10),\n",
    "                textcoords='offset points',  # точка смещения относительно координаты\n",
    "                fontsize=14)\n",
    "\n",
    "plt.title('Feature2-Target', fontsize=20)\n",
    "plt.ylabel('Count', fontsize=14)\n",
    "plt.xlabel('feature2', fontsize=14)\n",
    "\n",
    "plt.xticks(fontsize=14)\n",
    "plt.yticks(fontsize=14);"
   ]
  },
  {
   "cell_type": "markdown",
   "id": "1aff6ce1",
   "metadata": {},
   "source": [
    "При feature2 = 0 наблюдается незначительное преобладание target = 1 (52,9%). При feature2 = 1 наблюдается незначительное преобладание target = 0 (51,2%)."
   ]
  },
  {
   "cell_type": "code",
   "execution_count": 1013,
   "id": "5cdb9261",
   "metadata": {},
   "outputs": [],
   "source": [
    "data_new.drop(['time', 'second_event_time', 'events_time_diff', 'previous_loans_max_amount', \n",
    "               'events_ordinal_number', 'loan_ordinal_number', 'user_id', 'type', 'Unnamed: 0', 'index'],  axis=1, inplace=True)"
   ]
  },
  {
   "cell_type": "code",
   "execution_count": 1014,
   "id": "f8938a29",
   "metadata": {},
   "outputs": [
    {
     "data": {
      "text/html": [
       "<div>\n",
       "<style scoped>\n",
       "    .dataframe tbody tr th:only-of-type {\n",
       "        vertical-align: middle;\n",
       "    }\n",
       "\n",
       "    .dataframe tbody tr th {\n",
       "        vertical-align: top;\n",
       "    }\n",
       "\n",
       "    .dataframe thead th {\n",
       "        text-align: right;\n",
       "    }\n",
       "</style>\n",
       "<table border=\"1\" class=\"dataframe\">\n",
       "  <thead>\n",
       "    <tr style=\"text-align: right;\">\n",
       "      <th></th>\n",
       "      <th>amount</th>\n",
       "      <th>target</th>\n",
       "      <th>feature1</th>\n",
       "      <th>feature2</th>\n",
       "    </tr>\n",
       "  </thead>\n",
       "  <tbody>\n",
       "    <tr>\n",
       "      <th>0</th>\n",
       "      <td>14437</td>\n",
       "      <td>1.0</td>\n",
       "      <td>1</td>\n",
       "      <td>1</td>\n",
       "    </tr>\n",
       "    <tr>\n",
       "      <th>1</th>\n",
       "      <td>13306</td>\n",
       "      <td>1.0</td>\n",
       "      <td>0</td>\n",
       "      <td>0</td>\n",
       "    </tr>\n",
       "    <tr>\n",
       "      <th>2</th>\n",
       "      <td>15871</td>\n",
       "      <td>1.0</td>\n",
       "      <td>1</td>\n",
       "      <td>0</td>\n",
       "    </tr>\n",
       "    <tr>\n",
       "      <th>3</th>\n",
       "      <td>14115</td>\n",
       "      <td>0.0</td>\n",
       "      <td>1</td>\n",
       "      <td>0</td>\n",
       "    </tr>\n",
       "    <tr>\n",
       "      <th>4</th>\n",
       "      <td>15826</td>\n",
       "      <td>0.0</td>\n",
       "      <td>1</td>\n",
       "      <td>1</td>\n",
       "    </tr>\n",
       "  </tbody>\n",
       "</table>\n",
       "</div>"
      ],
      "text/plain": [
       "   amount  target  feature1  feature2\n",
       "0   14437     1.0         1         1\n",
       "1   13306     1.0         0         0\n",
       "2   15871     1.0         1         0\n",
       "3   14115     0.0         1         0\n",
       "4   15826     0.0         1         1"
      ]
     },
     "execution_count": 1014,
     "metadata": {},
     "output_type": "execute_result"
    }
   ],
   "source": [
    "data_new.head()"
   ]
  },
  {
   "cell_type": "code",
   "execution_count": 1015,
   "id": "31397d97",
   "metadata": {},
   "outputs": [],
   "source": [
    "cat_cols = ['feature1', 'feature2']"
   ]
  },
  {
   "cell_type": "markdown",
   "id": "6d085a9a",
   "metadata": {},
   "source": [
    "## Моделирование"
   ]
  },
  {
   "cell_type": "code",
   "execution_count": 1016,
   "id": "74d486df",
   "metadata": {},
   "outputs": [],
   "source": [
    "data_new_label = pd.get_dummies(data_new, columns=cat_cols, drop_first=True)"
   ]
  },
  {
   "cell_type": "code",
   "execution_count": 1017,
   "id": "8cf34bb0",
   "metadata": {},
   "outputs": [],
   "source": [
    "X = data_new_label.drop('target', axis=1)\n",
    "y = data_new_label['target']\n",
    "\n",
    "X_train, X_test, y_train, y_test = train_test_split(\n",
    "    X, y, test_size=0.25, stratify=y, shuffle=True, random_state=RAND)"
   ]
  },
  {
   "cell_type": "markdown",
   "id": "35a7199e",
   "metadata": {},
   "source": [
    "## Baseline"
   ]
  },
  {
   "cell_type": "code",
   "execution_count": 1018,
   "id": "cc544483",
   "metadata": {},
   "outputs": [],
   "source": [
    "lr = LogisticRegression(class_weight = 'balanced')\n",
    "lr.fit(X_train, y_train)\n",
    "\n",
    "y_pred = lr.predict(X_test)\n",
    "y_score = lr.predict_proba(X_test)[:,1]"
   ]
  },
  {
   "cell_type": "code",
   "execution_count": 1019,
   "id": "6599aa2e",
   "metadata": {},
   "outputs": [
    {
     "name": "stdout",
     "output_type": "stream",
     "text": [
      "roc-auc: 0.693384223918575\n",
      "precision: 0.6582278481012658\n",
      "recall: 0.7938931297709924\n",
      "f1: 0.7197231833910034\n",
      "logloss: 11.079936896035626\n"
     ]
    }
   ],
   "source": [
    "print('roc-auc:', roc_auc_score(y_test, y_score))\n",
    "print('precision:', precision_score(y_test, y_pred))\n",
    "print('recall:', recall_score(y_test, y_pred))\n",
    "print('f1:', f1_score(y_test, y_pred))\n",
    "print('logloss:', log_loss(y_test, y_pred))"
   ]
  },
  {
   "cell_type": "code",
   "execution_count": 1020,
   "id": "f094c04e",
   "metadata": {},
   "outputs": [],
   "source": [
    "# Добавим метрики в таблицу\n",
    "metrics = pd.DataFrame(\n",
    "    index=['roc-auc', 'precision', 'recall', 'f1', 'logloss'])\n",
    "\n",
    "metrics['Baseline_LR'] = [roc_auc_score(y_test, y_score),\n",
    "                          precision_score(y_test, y_pred),\n",
    "                          recall_score(y_test, y_pred),\n",
    "                          f1_score(y_test, y_pred),\n",
    "                          log_loss(y_test, y_pred)]"
   ]
  },
  {
   "cell_type": "code",
   "execution_count": 1021,
   "id": "bbc60377",
   "metadata": {},
   "outputs": [
    {
     "data": {
      "text/html": [
       "<div>\n",
       "<style scoped>\n",
       "    .dataframe tbody tr th:only-of-type {\n",
       "        vertical-align: middle;\n",
       "    }\n",
       "\n",
       "    .dataframe tbody tr th {\n",
       "        vertical-align: top;\n",
       "    }\n",
       "\n",
       "    .dataframe thead th {\n",
       "        text-align: right;\n",
       "    }\n",
       "</style>\n",
       "<table border=\"1\" class=\"dataframe\">\n",
       "  <thead>\n",
       "    <tr style=\"text-align: right;\">\n",
       "      <th></th>\n",
       "      <th>Baseline_LR</th>\n",
       "    </tr>\n",
       "  </thead>\n",
       "  <tbody>\n",
       "    <tr>\n",
       "      <th>roc-auc</th>\n",
       "      <td>0.693384</td>\n",
       "    </tr>\n",
       "    <tr>\n",
       "      <th>precision</th>\n",
       "      <td>0.658228</td>\n",
       "    </tr>\n",
       "    <tr>\n",
       "      <th>recall</th>\n",
       "      <td>0.793893</td>\n",
       "    </tr>\n",
       "    <tr>\n",
       "      <th>f1</th>\n",
       "      <td>0.719723</td>\n",
       "    </tr>\n",
       "    <tr>\n",
       "      <th>logloss</th>\n",
       "      <td>11.079937</td>\n",
       "    </tr>\n",
       "  </tbody>\n",
       "</table>\n",
       "</div>"
      ],
      "text/plain": [
       "           Baseline_LR\n",
       "roc-auc       0.693384\n",
       "precision     0.658228\n",
       "recall        0.793893\n",
       "f1            0.719723\n",
       "logloss      11.079937"
      ]
     },
     "execution_count": 1021,
     "metadata": {},
     "output_type": "execute_result"
    }
   ],
   "source": [
    "metrics"
   ]
  },
  {
   "cell_type": "code",
   "execution_count": 1022,
   "id": "cd3f0b2c",
   "metadata": {},
   "outputs": [
    {
     "data": {
      "image/png": "[encoded data removed]",
      "text/plain": [
       "<Figure size 432x288 with 1 Axes>"
      ]
     },
     "metadata": {
      "needs_background": "light"
     },
     "output_type": "display_data"
    }
   ],
   "source": [
    "fpr, tpr, thresholds = roc_curve(y_test, y_score)\n",
    "\n",
    "roc_auc = auc(fpr, tpr)\n",
    "\n",
    "plt.plot(fpr, tpr, color='darkorange', label='ROC curve (area = %0.2f)' % roc_auc)\n",
    "plt.plot([0, 1], [0, 1], color='navy', lw=2, linestyle='--')\n",
    "plt.xlim([0.0, 1.0])\n",
    "plt.ylim([0.0, 1.05])\n",
    "\n",
    "plt.xlabel('False Positive Rate')\n",
    "plt.ylabel('True Positive Rate')\n",
    "\n",
    "plt.title('Logistic Regression ROC AUC = %0.3f' % roc_auc)\n",
    "plt.legend(loc=\"lower right\")\n",
    "plt.show()"
   ]
  },
  {
   "cell_type": "markdown",
   "id": "11e67921",
   "metadata": {},
   "source": [
    "## Подбор параметров"
   ]
  },
  {
   "cell_type": "code",
   "execution_count": 1023,
   "id": "2fc29b24",
   "metadata": {},
   "outputs": [],
   "source": [
    "# Applying Grid Search to find the best model and the best parameters\n",
    "from sklearn.model_selection import GridSearchCV\n",
    "#parameters_Svm = {'kernel': ('linear', 'rbf','poly'), 'C':[1.5, 10],'gamma': [1e-7, 1e-4]}\n",
    "param_grid_Svm = [\n",
    "  {'C': [1, 10, 100, 1000], 'kernel': ['linear', 'rbf','poly']},\n",
    "  {'C': [1, 10, 100, 1000], 'gamma': [0.001, 0.0001], 'kernel': ['rbf']},\n",
    " ]\n",
    "parameters_Svm = [{'C': [1, 10, 100, 1000], 'kernel': ['linear']},\n",
    "              {'C': [1, 10, 100, 1000], 'kernel': ['rbf'],\n",
    "               'gamma': [0.1, 0.2, 0.3, 0.4, 0.5, 0.6, 0.7, 0.8, 0.9]}]\n",
    "parameters={'min_samples_split' : range(10,500,20),'max_depth': range(1,20,2)}\n",
    "grid_search = GridSearchCV(estimator = model,\n",
    "                           param_grid = parameters,\n",
    "                           scoring = 'accuracy',\n",
    "                           cv = 10,\n",
    "                           n_jobs = 1)\n",
    "grid_search = grid_search.fit(X_train, y_train)\n",
    "best_accuracy = grid_search.best_score_\n",
    "best_parameters = grid_search.best_params_"
   ]
  },
  {
   "cell_type": "code",
   "execution_count": 1024,
   "id": "0341deb2",
   "metadata": {},
   "outputs": [],
   "source": [
    "grid_search.best_estimator_.fit(X_train, y_train)\n",
    "y_pred = grid_search.best_estimator_.predict(X_test)"
   ]
  },
  {
   "cell_type": "code",
   "execution_count": 1025,
   "id": "87f67fb7",
   "metadata": {},
   "outputs": [],
   "source": [
    "y_score = lr.predict_proba(X_test)[:,1]"
   ]
  },
  {
   "cell_type": "code",
   "execution_count": 1026,
   "id": "ec4e3e3b",
   "metadata": {},
   "outputs": [
    {
     "name": "stdout",
     "output_type": "stream",
     "text": [
      "roc-auc: 0.693384223918575\n",
      "precision: 0.6603174603174603\n",
      "recall: 0.7938931297709924\n",
      "f1: 0.7209705372616985\n",
      "logloss: 11.011541696050793\n"
     ]
    }
   ],
   "source": [
    "print('roc-auc:', roc_auc_score(y_test, y_score))\n",
    "print('precision:', precision_score(y_test, y_pred))\n",
    "print('recall:', recall_score(y_test, y_pred))\n",
    "print('f1:', f1_score(y_test, y_pred))\n",
    "print('logloss:', log_loss(y_test, y_pred))"
   ]
  },
  {
   "cell_type": "code",
   "execution_count": 1027,
   "id": "f526b74c",
   "metadata": {},
   "outputs": [],
   "source": [
    "metrics = pd.DataFrame(\n",
    "    index=['roc-auc', 'precision', 'recall', 'f1', 'logloss'])\n",
    "\n",
    "metrics['Baseline_LR'] = [roc_auc_score(y_test, y_score),\n",
    "                          precision_score(y_test, y_pred),\n",
    "                          recall_score(y_test, y_pred),\n",
    "                          f1_score(y_test, y_pred),\n",
    "                          log_loss(y_test, y_pred)]"
   ]
  },
  {
   "cell_type": "code",
   "execution_count": 1028,
   "id": "55672f01",
   "metadata": {},
   "outputs": [
    {
     "data": {
      "text/html": [
       "<div>\n",
       "<style scoped>\n",
       "    .dataframe tbody tr th:only-of-type {\n",
       "        vertical-align: middle;\n",
       "    }\n",
       "\n",
       "    .dataframe tbody tr th {\n",
       "        vertical-align: top;\n",
       "    }\n",
       "\n",
       "    .dataframe thead th {\n",
       "        text-align: right;\n",
       "    }\n",
       "</style>\n",
       "<table border=\"1\" class=\"dataframe\">\n",
       "  <thead>\n",
       "    <tr style=\"text-align: right;\">\n",
       "      <th></th>\n",
       "      <th>Baseline_LR</th>\n",
       "    </tr>\n",
       "  </thead>\n",
       "  <tbody>\n",
       "    <tr>\n",
       "      <th>roc-auc</th>\n",
       "      <td>0.693384</td>\n",
       "    </tr>\n",
       "    <tr>\n",
       "      <th>precision</th>\n",
       "      <td>0.660317</td>\n",
       "    </tr>\n",
       "    <tr>\n",
       "      <th>recall</th>\n",
       "      <td>0.793893</td>\n",
       "    </tr>\n",
       "    <tr>\n",
       "      <th>f1</th>\n",
       "      <td>0.720971</td>\n",
       "    </tr>\n",
       "    <tr>\n",
       "      <th>logloss</th>\n",
       "      <td>11.011542</td>\n",
       "    </tr>\n",
       "  </tbody>\n",
       "</table>\n",
       "</div>"
      ],
      "text/plain": [
       "           Baseline_LR\n",
       "roc-auc       0.693384\n",
       "precision     0.660317\n",
       "recall        0.793893\n",
       "f1            0.720971\n",
       "logloss      11.011542"
      ]
     },
     "execution_count": 1028,
     "metadata": {},
     "output_type": "execute_result"
    }
   ],
   "source": [
    "metrics"
   ]
  },
  {
   "cell_type": "code",
   "execution_count": 1029,
   "id": "eb88f6dd",
   "metadata": {},
   "outputs": [
    {
     "data": {
      "image/png": "[encoded data removed]",
      "text/plain": [
       "<Figure size 432x288 with 1 Axes>"
      ]
     },
     "metadata": {
      "needs_background": "light"
     },
     "output_type": "display_data"
    }
   ],
   "source": [
    "fpr, tpr, thresholds = roc_curve(y_test, y_score)\n",
    "\n",
    "roc_auc = auc(fpr, tpr)\n",
    "\n",
    "plt.plot(fpr, tpr, color='darkorange', label='ROC curve (area = %0.2f)' % roc_auc)\n",
    "plt.plot([0, 1], [0, 1], color='navy', lw=2, linestyle='--')\n",
    "plt.xlim([0.0, 1.0])\n",
    "plt.ylim([0.0, 1.05])\n",
    "\n",
    "plt.xlabel('False Positive Rate')\n",
    "plt.ylabel('True Positive Rate')\n",
    "\n",
    "plt.title('Logistic Regression ROC AUC = %0.3f' % roc_auc)\n",
    "plt.legend(loc=\"lower right\")\n",
    "plt.show()"
   ]
  },
  {
   "cell_type": "markdown",
   "id": "7da1f17b",
   "metadata": {},
   "source": [
    "Улучшить модель можно так же, например, с помощью кроссвалидации."
   ]
  },
  {
   "cell_type": "markdown",
   "id": "b95ddfa1",
   "metadata": {},
   "source": [
    "## Предсказание отсутствующих данных целевой переменной"
   ]
  },
  {
   "cell_type": "code",
   "execution_count": 1030,
   "id": "5fb28b09",
   "metadata": {},
   "outputs": [],
   "source": [
    "bool_series = pd.isnull(data[\"target\"])"
   ]
  },
  {
   "cell_type": "code",
   "execution_count": 1031,
   "id": "951630ac",
   "metadata": {},
   "outputs": [],
   "source": [
    "second_data = data[bool_series]"
   ]
  },
  {
   "cell_type": "code",
   "execution_count": 1032,
   "id": "37a12ce6",
   "metadata": {},
   "outputs": [],
   "source": [
    "second_data = second_data.reset_index()"
   ]
  },
  {
   "cell_type": "code",
   "execution_count": 1033,
   "id": "f758b3a3",
   "metadata": {},
   "outputs": [],
   "source": [
    "second_data.drop(['time', 'second_event_time', 'events_time_diff', 'previous_loans_max_amount', \n",
    "               'events_ordinal_number', 'loan_ordinal_number', 'user_id', 'type', 'Unnamed: 0', 'index', 'target'], \n",
    "                 axis=1, inplace=True)"
   ]
  },
  {
   "cell_type": "code",
   "execution_count": 1034,
   "id": "d578891f",
   "metadata": {},
   "outputs": [
    {
     "data": {
      "text/html": [
       "<div>\n",
       "<style scoped>\n",
       "    .dataframe tbody tr th:only-of-type {\n",
       "        vertical-align: middle;\n",
       "    }\n",
       "\n",
       "    .dataframe tbody tr th {\n",
       "        vertical-align: top;\n",
       "    }\n",
       "\n",
       "    .dataframe thead th {\n",
       "        text-align: right;\n",
       "    }\n",
       "</style>\n",
       "<table border=\"1\" class=\"dataframe\">\n",
       "  <thead>\n",
       "    <tr style=\"text-align: right;\">\n",
       "      <th></th>\n",
       "      <th>amount</th>\n",
       "      <th>feature1</th>\n",
       "      <th>feature2</th>\n",
       "    </tr>\n",
       "  </thead>\n",
       "  <tbody>\n",
       "    <tr>\n",
       "      <th>0</th>\n",
       "      <td>14651</td>\n",
       "      <td>1</td>\n",
       "      <td>1</td>\n",
       "    </tr>\n",
       "    <tr>\n",
       "      <th>1</th>\n",
       "      <td>13398</td>\n",
       "      <td>0</td>\n",
       "      <td>0</td>\n",
       "    </tr>\n",
       "    <tr>\n",
       "      <th>2</th>\n",
       "      <td>14525</td>\n",
       "      <td>0</td>\n",
       "      <td>0</td>\n",
       "    </tr>\n",
       "    <tr>\n",
       "      <th>3</th>\n",
       "      <td>15861</td>\n",
       "      <td>1</td>\n",
       "      <td>0</td>\n",
       "    </tr>\n",
       "    <tr>\n",
       "      <th>4</th>\n",
       "      <td>14603</td>\n",
       "      <td>0</td>\n",
       "      <td>0</td>\n",
       "    </tr>\n",
       "  </tbody>\n",
       "</table>\n",
       "</div>"
      ],
      "text/plain": [
       "   amount  feature1  feature2\n",
       "0   14651         1         1\n",
       "1   13398         0         0\n",
       "2   14525         0         0\n",
       "3   15861         1         0\n",
       "4   14603         0         0"
      ]
     },
     "execution_count": 1034,
     "metadata": {},
     "output_type": "execute_result"
    }
   ],
   "source": [
    "second_data.head()"
   ]
  },
  {
   "cell_type": "code",
   "execution_count": 1035,
   "id": "b7058eff",
   "metadata": {},
   "outputs": [],
   "source": [
    "Z_test = second_data"
   ]
  },
  {
   "cell_type": "code",
   "execution_count": 1036,
   "id": "ba6e2594",
   "metadata": {},
   "outputs": [],
   "source": [
    "z_pred = lr.predict(Z_test)"
   ]
  },
  {
   "cell_type": "code",
   "execution_count": 1037,
   "id": "28c6b3da",
   "metadata": {},
   "outputs": [
    {
     "data": {
      "text/plain": [
       "array([1., 0., 0., ..., 1., 0., 0.])"
      ]
     },
     "execution_count": 1037,
     "metadata": {},
     "output_type": "execute_result"
    }
   ],
   "source": [
    "z_pred"
   ]
  },
  {
   "cell_type": "code",
   "execution_count": 1038,
   "id": "f0b26b12",
   "metadata": {},
   "outputs": [],
   "source": [
    "second_data['target'] = z_pred"
   ]
  },
  {
   "cell_type": "code",
   "execution_count": 1039,
   "id": "70fe2a64",
   "metadata": {},
   "outputs": [
    {
     "data": {
      "text/html": [
       "<div>\n",
       "<style scoped>\n",
       "    .dataframe tbody tr th:only-of-type {\n",
       "        vertical-align: middle;\n",
       "    }\n",
       "\n",
       "    .dataframe tbody tr th {\n",
       "        vertical-align: top;\n",
       "    }\n",
       "\n",
       "    .dataframe thead th {\n",
       "        text-align: right;\n",
       "    }\n",
       "</style>\n",
       "<table border=\"1\" class=\"dataframe\">\n",
       "  <thead>\n",
       "    <tr style=\"text-align: right;\">\n",
       "      <th></th>\n",
       "      <th>amount</th>\n",
       "      <th>feature1</th>\n",
       "      <th>feature2</th>\n",
       "      <th>target</th>\n",
       "    </tr>\n",
       "  </thead>\n",
       "  <tbody>\n",
       "    <tr>\n",
       "      <th>0</th>\n",
       "      <td>14651</td>\n",
       "      <td>1</td>\n",
       "      <td>1</td>\n",
       "      <td>1.0</td>\n",
       "    </tr>\n",
       "    <tr>\n",
       "      <th>1</th>\n",
       "      <td>13398</td>\n",
       "      <td>0</td>\n",
       "      <td>0</td>\n",
       "      <td>0.0</td>\n",
       "    </tr>\n",
       "    <tr>\n",
       "      <th>2</th>\n",
       "      <td>14525</td>\n",
       "      <td>0</td>\n",
       "      <td>0</td>\n",
       "      <td>0.0</td>\n",
       "    </tr>\n",
       "    <tr>\n",
       "      <th>3</th>\n",
       "      <td>15861</td>\n",
       "      <td>1</td>\n",
       "      <td>0</td>\n",
       "      <td>1.0</td>\n",
       "    </tr>\n",
       "    <tr>\n",
       "      <th>4</th>\n",
       "      <td>14603</td>\n",
       "      <td>0</td>\n",
       "      <td>0</td>\n",
       "      <td>0.0</td>\n",
       "    </tr>\n",
       "  </tbody>\n",
       "</table>\n",
       "</div>"
      ],
      "text/plain": [
       "   amount  feature1  feature2  target\n",
       "0   14651         1         1     1.0\n",
       "1   13398         0         0     0.0\n",
       "2   14525         0         0     0.0\n",
       "3   15861         1         0     1.0\n",
       "4   14603         0         0     0.0"
      ]
     },
     "execution_count": 1039,
     "metadata": {},
     "output_type": "execute_result"
    }
   ],
   "source": [
    "second_data.head()"
   ]
  },
  {
   "cell_type": "markdown",
   "id": "29a34583",
   "metadata": {},
   "source": [
    "## Объединяем датасет с предсказанными данными целевой переменной и датасет с данными целевой переменной, которые уже были в исходном датасете "
   ]
  },
  {
   "cell_type": "code",
   "execution_count": 1040,
   "id": "ac8c416e",
   "metadata": {},
   "outputs": [],
   "source": [
    "finish_data = pd.concat([data_new, second_data], ignore_index=True)"
   ]
  },
  {
   "cell_type": "code",
   "execution_count": 1041,
   "id": "517d833f",
   "metadata": {},
   "outputs": [
    {
     "data": {
      "text/html": [
       "<div>\n",
       "<style scoped>\n",
       "    .dataframe tbody tr th:only-of-type {\n",
       "        vertical-align: middle;\n",
       "    }\n",
       "\n",
       "    .dataframe tbody tr th {\n",
       "        vertical-align: top;\n",
       "    }\n",
       "\n",
       "    .dataframe thead th {\n",
       "        text-align: right;\n",
       "    }\n",
       "</style>\n",
       "<table border=\"1\" class=\"dataframe\">\n",
       "  <thead>\n",
       "    <tr style=\"text-align: right;\">\n",
       "      <th></th>\n",
       "      <th>amount</th>\n",
       "      <th>target</th>\n",
       "      <th>feature1</th>\n",
       "      <th>feature2</th>\n",
       "    </tr>\n",
       "  </thead>\n",
       "  <tbody>\n",
       "    <tr>\n",
       "      <th>0</th>\n",
       "      <td>14437</td>\n",
       "      <td>1.0</td>\n",
       "      <td>1</td>\n",
       "      <td>1</td>\n",
       "    </tr>\n",
       "    <tr>\n",
       "      <th>1</th>\n",
       "      <td>13306</td>\n",
       "      <td>1.0</td>\n",
       "      <td>0</td>\n",
       "      <td>0</td>\n",
       "    </tr>\n",
       "    <tr>\n",
       "      <th>2</th>\n",
       "      <td>15871</td>\n",
       "      <td>1.0</td>\n",
       "      <td>1</td>\n",
       "      <td>0</td>\n",
       "    </tr>\n",
       "    <tr>\n",
       "      <th>3</th>\n",
       "      <td>14115</td>\n",
       "      <td>0.0</td>\n",
       "      <td>1</td>\n",
       "      <td>0</td>\n",
       "    </tr>\n",
       "    <tr>\n",
       "      <th>4</th>\n",
       "      <td>15826</td>\n",
       "      <td>0.0</td>\n",
       "      <td>1</td>\n",
       "      <td>1</td>\n",
       "    </tr>\n",
       "    <tr>\n",
       "      <th>...</th>\n",
       "      <td>...</td>\n",
       "      <td>...</td>\n",
       "      <td>...</td>\n",
       "      <td>...</td>\n",
       "    </tr>\n",
       "    <tr>\n",
       "      <th>9995</th>\n",
       "      <td>14927</td>\n",
       "      <td>1.0</td>\n",
       "      <td>1</td>\n",
       "      <td>1</td>\n",
       "    </tr>\n",
       "    <tr>\n",
       "      <th>9996</th>\n",
       "      <td>15159</td>\n",
       "      <td>0.0</td>\n",
       "      <td>0</td>\n",
       "      <td>1</td>\n",
       "    </tr>\n",
       "    <tr>\n",
       "      <th>9997</th>\n",
       "      <td>15636</td>\n",
       "      <td>1.0</td>\n",
       "      <td>1</td>\n",
       "      <td>0</td>\n",
       "    </tr>\n",
       "    <tr>\n",
       "      <th>9998</th>\n",
       "      <td>14736</td>\n",
       "      <td>0.0</td>\n",
       "      <td>0</td>\n",
       "      <td>1</td>\n",
       "    </tr>\n",
       "    <tr>\n",
       "      <th>9999</th>\n",
       "      <td>14640</td>\n",
       "      <td>0.0</td>\n",
       "      <td>0</td>\n",
       "      <td>1</td>\n",
       "    </tr>\n",
       "  </tbody>\n",
       "</table>\n",
       "<p>10000 rows × 4 columns</p>\n",
       "</div>"
      ],
      "text/plain": [
       "      amount  target  feature1  feature2\n",
       "0      14437     1.0         1         1\n",
       "1      13306     1.0         0         0\n",
       "2      15871     1.0         1         0\n",
       "3      14115     0.0         1         0\n",
       "4      15826     0.0         1         1\n",
       "...      ...     ...       ...       ...\n",
       "9995   14927     1.0         1         1\n",
       "9996   15159     0.0         0         1\n",
       "9997   15636     1.0         1         0\n",
       "9998   14736     0.0         0         1\n",
       "9999   14640     0.0         0         1\n",
       "\n",
       "[10000 rows x 4 columns]"
      ]
     },
     "execution_count": 1041,
     "metadata": {},
     "output_type": "execute_result"
    }
   ],
   "source": [
    "finish_data"
   ]
  },
  {
   "cell_type": "markdown",
   "id": "c9614365",
   "metadata": {},
   "source": [
    "## Анализ важных признаков"
   ]
  },
  {
   "cell_type": "markdown",
   "id": "905c68fc",
   "metadata": {},
   "source": [
    "Так как исходные данные (data) не сбалансированы (много отсутствующих данных в целевой переменной target, я думаю, целесообразно провести анализ важных признаков и для датасета с исходными данными (кроме строк с NaN), и для конечного датасета с предсказанными данными."
   ]
  },
  {
   "cell_type": "code",
   "execution_count": 1042,
   "id": "630d4f0b",
   "metadata": {},
   "outputs": [
    {
     "name": "stdout",
     "output_type": "stream",
     "text": [
      "[1.83756069e-01 8.16060434e-01 1.83496818e-04]\n",
      "0.9702\n"
     ]
    },
    {
     "data": {
      "image/png": "[encoded data removed]",
      "text/plain": [
       "<Figure size 432x288 with 1 Axes>"
      ]
     },
     "metadata": {
      "needs_background": "light"
     },
     "output_type": "display_data"
    }
   ],
   "source": [
    "from sklearn.ensemble import ExtraTreesClassifier\n",
    "\n",
    "y_finish = finish_data['target']\n",
    "x_finish = finish_data.drop('target',  axis=1)\n",
    "\n",
    "model = ExtraTreesClassifier()\n",
    "model.fit(x_finish, y_finish)\n",
    "print(model.feature_importances_)\n",
    "print(model.score(x_finish, y_finish))\n",
    "\n",
    "feat_importances = pd.Series(model.feature_importances_, index=x_finish.columns)\n",
    "feat_importances.nlargest(15).plot(kind='barh')\n",
    "plt.show()"
   ]
  },
  {
   "cell_type": "markdown",
   "id": "2715f5de",
   "metadata": {},
   "source": [
    "Признаки расположены по степени их важности по оси OY. В датасете, содержащем предсказанные значения целевой переменной target, переменная feature1 оказалась наиболее значимой для целевой переменной по сравнению с другими рассматриваемыми переменными."
   ]
  },
  {
   "cell_type": "code",
   "execution_count": 1043,
   "id": "064565f5",
   "metadata": {},
   "outputs": [
    {
     "name": "stdout",
     "output_type": "stream",
     "text": [
      "[0.84036336 0.15562918 0.00400746]\n",
      "0.9692917285785042\n"
     ]
    },
    {
     "data": {
      "image/png": "[encoded data removed]",
      "text/plain": [
       "<Figure size 432x288 with 1 Axes>"
      ]
     },
     "metadata": {
      "needs_background": "light"
     },
     "output_type": "display_data"
    }
   ],
   "source": [
    "from sklearn.ensemble import ExtraTreesClassifier\n",
    "\n",
    "y_new = data_new['target']\n",
    "x_new = data_new.drop('target',  axis=1)\n",
    "\n",
    "model = ExtraTreesClassifier()\n",
    "model.fit(x_new, y_new)\n",
    "print(model.feature_importances_)\n",
    "print(model.score(x_new, y_new))\n",
    "\n",
    "feat_importances = pd.Series(model.feature_importances_, index=x_new.columns)\n",
    "feat_importances.nlargest(15).plot(kind='barh')\n",
    "plt.show()"
   ]
  },
  {
   "cell_type": "markdown",
   "id": "a15f2e2f",
   "metadata": {},
   "source": [
    "В датасете, который не содержит строки с NaN в целевой переменной target, переменная amount оказалась более значимой. Но в то же время переменная feature1 по сравнению с переменной feature2 оказалась более значимой для целевой переменной."
   ]
  }
 ],
 "metadata": {
  "kernelspec": {
   "display_name": "Python 3 (ipykernel)",
   "language": "python",
   "name": "python3"
  },
  "language_info": {
   "codemirror_mode": {
    "name": "ipython",
    "version": 3
   },
   "file_extension": ".py",
   "mimetype": "text/x-python",
   "name": "python",
   "nbconvert_exporter": "python",
   "pygments_lexer": "ipython3",
   "version": "3.9.5"
  }
 },
 "nbformat": 4,
 "nbformat_minor": 5
}
